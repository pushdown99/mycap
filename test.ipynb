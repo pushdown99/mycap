{
 "cells": [
  {
   "cell_type": "code",
   "execution_count": 32,
   "id": "c3664c52",
   "metadata": {},
   "outputs": [
    {
     "name": "stdout",
     "output_type": "stream",
     "text": [
      "326778\n"
     ]
    }
   ],
   "source": [
    "from glob import glob\n",
    "from tqdm import tqdm\n",
    "\n",
    "cnt = 0\n",
    "for f in glob('../datasets/NIA/download/4-2/**/*.json', recursive=True):\n",
    "  cnt += 1\n",
    "\n",
    "print (cnt)"
   ]
  },
  {
   "cell_type": "code",
   "execution_count": null,
   "id": "679cfaf7",
   "metadata": {},
   "outputs": [],
   "source": []
  }
 ],
 "metadata": {
  "kernelspec": {
   "display_name": "tf2",
   "language": "python",
   "name": "tf2"
  },
  "language_info": {
   "codemirror_mode": {
    "name": "ipython",
    "version": 3
   },
   "file_extension": ".py",
   "mimetype": "text/x-python",
   "name": "python",
   "nbconvert_exporter": "python",
   "pygments_lexer": "ipython3",
   "version": "3.9.10"
  }
 },
 "nbformat": 4,
 "nbformat_minor": 5
}
